{
 "cells": [
  {
   "cell_type": "markdown",
   "metadata": {},
   "source": [
    "This script scrape maqams/ Eqaa's list from Maqamworld and downloads all mp3 files inside each maqam / eqaa in a separate folder"
   ]
  },
  {
   "cell_type": "code",
   "execution_count": 1,
   "metadata": {},
   "outputs": [],
   "source": [
    "from splinter import Browser\n",
    "import time \n",
    "import numpy as np\n",
    "import requests\n",
    "import pandas as pd\n",
    "from collections import Counter\n",
    "import os\n",
    "import logging"
   ]
  },
  {
   "cell_type": "code",
   "execution_count": 2,
   "metadata": {},
   "outputs": [],
   "source": [
    "SAVING_PATH = '/Users/amr/repos/jasim/data/iqaa'\n",
    "MAIN_URL = 'https://www.maqamworld.com/en/iqaa.php'"
   ]
  },
  {
   "cell_type": "code",
   "execution_count": 4,
   "metadata": {},
   "outputs": [],
   "source": [
    "def local_name_check(saving_name):\n",
    "    '''\n",
    "    A function to avoid overwriting\n",
    "    Input: desired saving name\n",
    "    Output: the same name with an additional \"_1\" suffiex if the same file name already existed\n",
    "    '''\n",
    "    \n",
    "    if os.path.isfile(saving_name):\n",
    "        file_extension = saving_name[::-1].split('.', 1)[0][::-1]\n",
    "        print(file_extension)\n",
    "        saving_name = saving_name.strip('.'+file_extension) + \"_1\" + \".\"+file_extension\n",
    "        print(saving_name)\n",
    "    return saving_name\n",
    "\n",
    "\n",
    "# source:\n",
    "# https://www.codementor.io/aviaryan/downloading-files-from-urls-in-python-77q3bs0un\n",
    "\n",
    "def is_downloadable(url):\n",
    "    \"\"\"\n",
    "    Does the url contain a downloadable resource\n",
    "    \"\"\"\n",
    "    h = requests.head(url, allow_redirects=True)\n",
    "    header = h.headers\n",
    "    content_type = header.get('content-type')\n",
    "    if 'text' in content_type.lower():\n",
    "        return False\n",
    "    if 'html' in content_type.lower():\n",
    "        return False\n",
    "    return True\n",
    "\n",
    "def download_file(url, saving_name):\n",
    "    '''\n",
    "    Downloads a file to the \"saving_name\" directory\n",
    "    Returns the final saved name\n",
    "    '''\n",
    "    \n",
    "    saving_name = local_name_check(saving_name)\n",
    "    # NOTE the stream=True parameter\n",
    "    r = requests.get(url, stream=True, allow_redirects=True)\n",
    "    \n",
    "    with open(saving_name, 'wb') as f:\n",
    "        for chunk in r.iter_content(chunk_size=1024): \n",
    "            if chunk: # filter out keep-alive new chunks\n",
    "                f.write(chunk)\n",
    "                #f.flush() commented by recommendation from J.F.Sebastian\n",
    "    return saving_name"
   ]
  },
  {
   "cell_type": "markdown",
   "metadata": {},
   "source": [
    "### Get list of Maqams and their URL's"
   ]
  },
  {
   "cell_type": "code",
   "execution_count": 5,
   "metadata": {},
   "outputs": [],
   "source": [
    "browser = Browser(\"chrome\")\n",
    "browser.visit(MAIN_URL)\n",
    "\n",
    "maqams_list = browser.find_by_css('[class=\"sub-menu\"]')[0].find_by_tag('li')\n",
    "maqams = {e.text: {'URL': e.find_by_tag('a')[0]['href']} for e in list(maqams_list)[1:]}\n",
    "maqams = { k.replace('/','-'):v for k,v in maqams.items()}"
   ]
  },
  {
   "cell_type": "code",
   "execution_count": 6,
   "metadata": {},
   "outputs": [],
   "source": [
    "def scrape_maqam(maqam_name, maqams):\n",
    "\n",
    "    maqam_page = maqams[maqam_name]['URL']\n",
    "\n",
    "    browser.visit(maqam_page)\n",
    "    \n",
    "    if browser.find_by_css('[class=\"track demo-track\"]'):\n",
    "        demo_track = [browser.find_by_css('[class=\"track demo-track\"]')[0]]\n",
    "    else:\n",
    "        demo_track = []\n",
    "\n",
    "    tracks_list = list(browser.find_by_css('[class=\"track\"]')) + demo_track\n",
    "\n",
    "    maqam_saving_path = os.path.join(SAVING_PATH, maqam_name)\n",
    "\n",
    "    if not os.path.exists(maqam_saving_path):\n",
    "        os.makedirs(maqam_saving_path)\n",
    "\n",
    "        \n",
    "    notations = browser.find_by_css('[class=\"notation\"]')\n",
    "    if notations:\n",
    "        \n",
    "        ## in case we get more than one notation for maqams with variations\n",
    "        for notation in notations:\n",
    "            notation_url = notation.find_by_tag('img')[0]['src']\n",
    "            notation_file_name = notation_url.split('/')[::-1][0]\n",
    "            download_file( notation_url, os.path.join(maqam_saving_path, notation_file_name))\n",
    "\n",
    "    tracks_dict = []\n",
    "    failed_downloads = []\n",
    "\n",
    "    for item in tracks_list:\n",
    "\n",
    "        try:\n",
    "            track = {}\n",
    "            metadata = item.text.split('\\n')\n",
    "            mp3_url = \"https://www.maqamworld.com/\" + item['data-song']\n",
    "            notation_url = browser.find_by_css('[class=\"notation\"]')[0].find_by_tag('img')[0]['src']\n",
    "            track['title'] = metadata[0]\n",
    "            track['artist'] = metadata[1]\n",
    "            track['mp3_url'] = mp3_url\n",
    "\n",
    "            file_name = mp3_url.split('/')[::-1][0]\n",
    "            download_file(mp3_url, os.path.join(maqam_saving_path, file_name))\n",
    "\n",
    "            tracks_dict.append(track)\n",
    "\n",
    "        except Exception as e:\n",
    "            logging.error('Failed to download a file, '+ str(e))\n",
    "            failed_downloads.append(item)\n",
    "            \n",
    "    \n",
    "    maqams[maqam_name]['tracks'] = tracks_dict\n",
    "            \n",
    "    \n",
    "    return failed_downloads"
   ]
  },
  {
   "cell_type": "code",
   "execution_count": 7,
   "metadata": {},
   "outputs": [
    {
     "name": "stdout",
     "output_type": "stream",
     "text": [
      "mp3\n",
      "/Users/amr/repos/jasim/data/iqaa/Aqsaq 9-8/ma_htiyali_1.mp3\n",
      "mp3\n",
      "/Users/amr/repos/jasim/data/iqaa/Ciftetelli 8-4/mawwal_khayri_1.mp3\n"
     ]
    }
   ],
   "source": [
    "failed_downloads = []\n",
    "\n",
    "for maqam_name in maqams.keys():\n",
    "    \n",
    "    failed_downloads = scrape_maqam(maqam_name, maqams)\n",
    "    \n",
    "    failed_downloads.extend(failed_downloads)"
   ]
  },
  {
   "cell_type": "code",
   "execution_count": 8,
   "metadata": {},
   "outputs": [
    {
     "data": {
      "text/plain": [
       "[]"
      ]
     },
     "execution_count": 8,
     "metadata": {},
     "output_type": "execute_result"
    }
   ],
   "source": [
    "failed_downloads"
   ]
  },
  {
   "cell_type": "code",
   "execution_count": 9,
   "metadata": {},
   "outputs": [],
   "source": [
    "import joblib"
   ]
  },
  {
   "cell_type": "code",
   "execution_count": 10,
   "metadata": {},
   "outputs": [
    {
     "data": {
      "text/plain": [
       "['/Users/amr/repos/jasim/data/iqaa/metadata.json']"
      ]
     },
     "execution_count": 10,
     "metadata": {},
     "output_type": "execute_result"
    }
   ],
   "source": [
    "joblib.dump(maqams, os.path.join(SAVING_PATH, 'metadata.json'))"
   ]
  },
  {
   "cell_type": "code",
   "execution_count": 12,
   "metadata": {},
   "outputs": [],
   "source": [
    "import json"
   ]
  },
  {
   "cell_type": "code",
   "execution_count": 17,
   "metadata": {},
   "outputs": [],
   "source": [
    "with open(os.path.join(SAVING_PATH, 'metadata_2.json'), 'w') as f:\n",
    "    json.dumps(maqams)"
   ]
  },
  {
   "cell_type": "code",
   "execution_count": null,
   "metadata": {},
   "outputs": [],
   "source": [
    "json.dump(maqams, )"
   ]
  }
 ],
 "metadata": {
  "kernelspec": {
   "display_name": "music",
   "language": "python",
   "name": "music"
  },
  "language_info": {
   "codemirror_mode": {
    "name": "ipython",
    "version": 3
   },
   "file_extension": ".py",
   "mimetype": "text/x-python",
   "name": "python",
   "nbconvert_exporter": "python",
   "pygments_lexer": "ipython3",
   "version": "3.6.12"
  }
 },
 "nbformat": 4,
 "nbformat_minor": 4
}
